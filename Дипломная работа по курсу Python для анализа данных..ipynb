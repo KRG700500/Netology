{
 "cells": [
  {
   "cell_type": "markdown",
   "id": "81826d71",
   "metadata": {},
   "source": [
    "# Задание к дипломной работе по курсу \"Python для анализа данных\"\n",
    "Дан файл HR.csv с данными по опросу уровня удовлетворенности сотрудниками работой. \n",
    "\n",
    "### Информация по столбцам:\n",
    "\n",
    "satisfaction_level - Уровень удовлетворенности работой\n",
    "\n",
    "Last_evaluation - Время с момента последней оценки в годах\n",
    "\n",
    "number_projects - Количество проектов, выполненных за время работы\n",
    "\n",
    "average_monthly_hours - Среднее количество часов на рабочем месте в месяц\n",
    "\n",
    "time_spend_company - Стаж работы в компании в годах\n",
    "\n",
    "work_accident - Происходили ли несчастные случаи на рабочем месте с сотрудником\n",
    "\n",
    "left - уволился ли сотрудник\n",
    "\n",
    "promotion_last_5years - повышался ли сотрудник за последние пять лет\n",
    "\n",
    "department - отдел в котором работает сотрудник\n",
    "\n",
    "salary - относительный уровень зарплаты\n"
   ]
  },
  {
   "cell_type": "markdown",
   "id": "908d7515",
   "metadata": {},
   "source": [
    "### Задание 1\n",
    "Загрузите файл HR.csv в pandas dataframe"
   ]
  },
  {
   "cell_type": "code",
   "execution_count": 1,
   "id": "38887222",
   "metadata": {},
   "outputs": [],
   "source": [
    "import pandas as pd\n",
    "import seaborn as sns\n",
    "import matplotlib.pyplot as plt\n",
    "import scipy.stats as st\n",
    "from IPython.display import display\n",
    "from sklearn.linear_model import LinearRegression\n",
    "from sklearn.model_selection import train_test_split"
   ]
  },
  {
   "cell_type": "code",
   "execution_count": 2,
   "id": "4a75cb62",
   "metadata": {},
   "outputs": [
    {
     "name": "stdout",
     "output_type": "stream",
     "text": [
      "<class 'pandas.core.frame.DataFrame'>\n",
      "RangeIndex: 14999 entries, 0 to 14998\n",
      "Data columns (total 10 columns):\n",
      " #   Column                 Non-Null Count  Dtype  \n",
      "---  ------                 --------------  -----  \n",
      " 0   satisfaction_level     14999 non-null  float64\n",
      " 1   last_evaluation        14999 non-null  float64\n",
      " 2   number_project         14999 non-null  int64  \n",
      " 3   average_montly_hours   14999 non-null  int64  \n",
      " 4   time_spend_company     14999 non-null  int64  \n",
      " 5   Work_accident          14999 non-null  int64  \n",
      " 6   left                   14999 non-null  int64  \n",
      " 7   promotion_last_5years  14999 non-null  int64  \n",
      " 8   department             14999 non-null  object \n",
      " 9   salary                 14999 non-null  object \n",
      "dtypes: float64(2), int64(6), object(2)\n",
      "memory usage: 1.1+ MB\n"
     ]
    }
   ],
   "source": [
    "hr = pd.read_csv('HR.csv')\n",
    "hr.info()"
   ]
  },
  {
   "cell_type": "code",
   "execution_count": 3,
   "id": "b41c6d8f",
   "metadata": {},
   "outputs": [],
   "source": [
    "hr = hr.rename(columns = {'Work_accident': 'work_accident','promotion_last_5years': 'promotion_last_five_years'})"
   ]
  },
  {
   "cell_type": "markdown",
   "id": "6649c628",
   "metadata": {},
   "source": [
    "### Задание 2\n",
    "Рассчитайте основные статистики для переменных(среднее,медиана,мода,мин/макс,сред.отклонение)."
   ]
  },
  {
   "cell_type": "code",
   "execution_count": 59,
   "id": "33060769",
   "metadata": {},
   "outputs": [
    {
     "name": "stdout",
     "output_type": "stream",
     "text": [
      "Основные статистики:\n",
      "\n"
     ]
    },
    {
     "data": {
      "text/html": [
       "<div>\n",
       "<style scoped>\n",
       "    .dataframe tbody tr th:only-of-type {\n",
       "        vertical-align: middle;\n",
       "    }\n",
       "\n",
       "    .dataframe tbody tr th {\n",
       "        vertical-align: top;\n",
       "    }\n",
       "\n",
       "    .dataframe thead th {\n",
       "        text-align: right;\n",
       "    }\n",
       "</style>\n",
       "<table border=\"1\" class=\"dataframe\">\n",
       "  <thead>\n",
       "    <tr style=\"text-align: right;\">\n",
       "      <th></th>\n",
       "      <th>satisfaction_level</th>\n",
       "      <th>last_evaluation</th>\n",
       "      <th>number_project</th>\n",
       "      <th>average_montly_hours</th>\n",
       "      <th>time_spend_company</th>\n",
       "      <th>work_accident</th>\n",
       "      <th>left</th>\n",
       "      <th>promotion_last_five_years</th>\n",
       "    </tr>\n",
       "  </thead>\n",
       "  <tbody>\n",
       "    <tr>\n",
       "      <th>count</th>\n",
       "      <td>14999.000000</td>\n",
       "      <td>14999.000000</td>\n",
       "      <td>14999.000000</td>\n",
       "      <td>14999.000000</td>\n",
       "      <td>14999.000000</td>\n",
       "      <td>14999.000000</td>\n",
       "      <td>14999.000000</td>\n",
       "      <td>14999.000000</td>\n",
       "    </tr>\n",
       "    <tr>\n",
       "      <th>mean</th>\n",
       "      <td>0.612834</td>\n",
       "      <td>0.716102</td>\n",
       "      <td>3.803054</td>\n",
       "      <td>201.050337</td>\n",
       "      <td>3.498233</td>\n",
       "      <td>0.144610</td>\n",
       "      <td>0.238083</td>\n",
       "      <td>0.021268</td>\n",
       "    </tr>\n",
       "    <tr>\n",
       "      <th>std</th>\n",
       "      <td>0.248631</td>\n",
       "      <td>0.171169</td>\n",
       "      <td>1.232592</td>\n",
       "      <td>49.943099</td>\n",
       "      <td>1.460136</td>\n",
       "      <td>0.351719</td>\n",
       "      <td>0.425924</td>\n",
       "      <td>0.144281</td>\n",
       "    </tr>\n",
       "    <tr>\n",
       "      <th>min</th>\n",
       "      <td>0.090000</td>\n",
       "      <td>0.360000</td>\n",
       "      <td>2.000000</td>\n",
       "      <td>96.000000</td>\n",
       "      <td>2.000000</td>\n",
       "      <td>0.000000</td>\n",
       "      <td>0.000000</td>\n",
       "      <td>0.000000</td>\n",
       "    </tr>\n",
       "    <tr>\n",
       "      <th>25%</th>\n",
       "      <td>0.440000</td>\n",
       "      <td>0.560000</td>\n",
       "      <td>3.000000</td>\n",
       "      <td>156.000000</td>\n",
       "      <td>3.000000</td>\n",
       "      <td>0.000000</td>\n",
       "      <td>0.000000</td>\n",
       "      <td>0.000000</td>\n",
       "    </tr>\n",
       "    <tr>\n",
       "      <th>50%</th>\n",
       "      <td>0.640000</td>\n",
       "      <td>0.720000</td>\n",
       "      <td>4.000000</td>\n",
       "      <td>200.000000</td>\n",
       "      <td>3.000000</td>\n",
       "      <td>0.000000</td>\n",
       "      <td>0.000000</td>\n",
       "      <td>0.000000</td>\n",
       "    </tr>\n",
       "    <tr>\n",
       "      <th>75%</th>\n",
       "      <td>0.820000</td>\n",
       "      <td>0.870000</td>\n",
       "      <td>5.000000</td>\n",
       "      <td>245.000000</td>\n",
       "      <td>4.000000</td>\n",
       "      <td>0.000000</td>\n",
       "      <td>0.000000</td>\n",
       "      <td>0.000000</td>\n",
       "    </tr>\n",
       "    <tr>\n",
       "      <th>max</th>\n",
       "      <td>1.000000</td>\n",
       "      <td>1.000000</td>\n",
       "      <td>7.000000</td>\n",
       "      <td>310.000000</td>\n",
       "      <td>10.000000</td>\n",
       "      <td>1.000000</td>\n",
       "      <td>1.000000</td>\n",
       "      <td>1.000000</td>\n",
       "    </tr>\n",
       "  </tbody>\n",
       "</table>\n",
       "</div>"
      ],
      "text/plain": [
       "       satisfaction_level  last_evaluation  number_project  \\\n",
       "count        14999.000000     14999.000000    14999.000000   \n",
       "mean             0.612834         0.716102        3.803054   \n",
       "std              0.248631         0.171169        1.232592   \n",
       "min              0.090000         0.360000        2.000000   \n",
       "25%              0.440000         0.560000        3.000000   \n",
       "50%              0.640000         0.720000        4.000000   \n",
       "75%              0.820000         0.870000        5.000000   \n",
       "max              1.000000         1.000000        7.000000   \n",
       "\n",
       "       average_montly_hours  time_spend_company  work_accident          left  \\\n",
       "count          14999.000000        14999.000000   14999.000000  14999.000000   \n",
       "mean             201.050337            3.498233       0.144610      0.238083   \n",
       "std               49.943099            1.460136       0.351719      0.425924   \n",
       "min               96.000000            2.000000       0.000000      0.000000   \n",
       "25%              156.000000            3.000000       0.000000      0.000000   \n",
       "50%              200.000000            3.000000       0.000000      0.000000   \n",
       "75%              245.000000            4.000000       0.000000      0.000000   \n",
       "max              310.000000           10.000000       1.000000      1.000000   \n",
       "\n",
       "       promotion_last_five_years  \n",
       "count               14999.000000  \n",
       "mean                    0.021268  \n",
       "std                     0.144281  \n",
       "min                     0.000000  \n",
       "25%                     0.000000  \n",
       "50%                     0.000000  \n",
       "75%                     0.000000  \n",
       "max                     1.000000  "
      ]
     },
     "metadata": {},
     "output_type": "display_data"
    },
    {
     "name": "stdout",
     "output_type": "stream",
     "text": [
      "\n",
      "Мода для всех столбцов:\n",
      "\n"
     ]
    },
    {
     "data": {
      "text/html": [
       "<div>\n",
       "<style scoped>\n",
       "    .dataframe tbody tr th:only-of-type {\n",
       "        vertical-align: middle;\n",
       "    }\n",
       "\n",
       "    .dataframe tbody tr th {\n",
       "        vertical-align: top;\n",
       "    }\n",
       "\n",
       "    .dataframe thead th {\n",
       "        text-align: right;\n",
       "    }\n",
       "</style>\n",
       "<table border=\"1\" class=\"dataframe\">\n",
       "  <thead>\n",
       "    <tr style=\"text-align: right;\">\n",
       "      <th></th>\n",
       "      <th>satisfaction_level</th>\n",
       "      <th>last_evaluation</th>\n",
       "      <th>number_project</th>\n",
       "      <th>average_montly_hours</th>\n",
       "      <th>time_spend_company</th>\n",
       "      <th>work_accident</th>\n",
       "      <th>left</th>\n",
       "      <th>promotion_last_five_years</th>\n",
       "      <th>department</th>\n",
       "      <th>salary</th>\n",
       "    </tr>\n",
       "  </thead>\n",
       "  <tbody>\n",
       "    <tr>\n",
       "      <th>0</th>\n",
       "      <td>0.1</td>\n",
       "      <td>0.55</td>\n",
       "      <td>4.0</td>\n",
       "      <td>135</td>\n",
       "      <td>3.0</td>\n",
       "      <td>0.0</td>\n",
       "      <td>0.0</td>\n",
       "      <td>0.0</td>\n",
       "      <td>sales</td>\n",
       "      <td>low</td>\n",
       "    </tr>\n",
       "    <tr>\n",
       "      <th>1</th>\n",
       "      <td>NaN</td>\n",
       "      <td>NaN</td>\n",
       "      <td>NaN</td>\n",
       "      <td>156</td>\n",
       "      <td>NaN</td>\n",
       "      <td>NaN</td>\n",
       "      <td>NaN</td>\n",
       "      <td>NaN</td>\n",
       "      <td>NaN</td>\n",
       "      <td>NaN</td>\n",
       "    </tr>\n",
       "  </tbody>\n",
       "</table>\n",
       "</div>"
      ],
      "text/plain": [
       "   satisfaction_level  last_evaluation  number_project  average_montly_hours  \\\n",
       "0                 0.1             0.55             4.0                   135   \n",
       "1                 NaN              NaN             NaN                   156   \n",
       "\n",
       "   time_spend_company  work_accident  left  promotion_last_five_years  \\\n",
       "0                 3.0            0.0   0.0                        0.0   \n",
       "1                 NaN            NaN   NaN                        NaN   \n",
       "\n",
       "  department salary  \n",
       "0      sales    low  \n",
       "1        NaN    NaN  "
      ]
     },
     "metadata": {},
     "output_type": "display_data"
    }
   ],
   "source": [
    "stats = hr.describe()\n",
    "\n",
    "mode = hr.mode()\n",
    "\n",
    "print('Основные статистики:\\n')\n",
    "display(stats)\n",
    "print('\\nМода для всех столбцов:\\n')\n",
    "display(mode)"
   ]
  },
  {
   "cell_type": "markdown",
   "id": "9dc288fc",
   "metadata": {},
   "source": [
    "### Задание 3\n",
    "Рассчитайте и визуализируйте корреляционную матрицу для количественных переменных.\n",
    "\n",
    "Определите две самые скоррелированные и две наименее скоррелированные переменные."
   ]
  },
  {
   "cell_type": "code",
   "execution_count": 5,
   "id": "587410d2",
   "metadata": {},
   "outputs": [
    {
     "data": {
      "text/html": [
       "<div>\n",
       "<style scoped>\n",
       "    .dataframe tbody tr th:only-of-type {\n",
       "        vertical-align: middle;\n",
       "    }\n",
       "\n",
       "    .dataframe tbody tr th {\n",
       "        vertical-align: top;\n",
       "    }\n",
       "\n",
       "    .dataframe thead th {\n",
       "        text-align: right;\n",
       "    }\n",
       "</style>\n",
       "<table border=\"1\" class=\"dataframe\">\n",
       "  <thead>\n",
       "    <tr style=\"text-align: right;\">\n",
       "      <th></th>\n",
       "      <th>satisfaction_level</th>\n",
       "      <th>last_evaluation</th>\n",
       "      <th>number_project</th>\n",
       "      <th>average_montly_hours</th>\n",
       "      <th>time_spend_company</th>\n",
       "      <th>work_accident</th>\n",
       "      <th>left</th>\n",
       "      <th>promotion_last_five_years</th>\n",
       "    </tr>\n",
       "  </thead>\n",
       "  <tbody>\n",
       "    <tr>\n",
       "      <th>satisfaction_level</th>\n",
       "      <td>1.000000</td>\n",
       "      <td>0.105021</td>\n",
       "      <td>-0.142970</td>\n",
       "      <td>-0.020048</td>\n",
       "      <td>-0.100866</td>\n",
       "      <td>0.058697</td>\n",
       "      <td>-0.388375</td>\n",
       "      <td>0.025605</td>\n",
       "    </tr>\n",
       "    <tr>\n",
       "      <th>last_evaluation</th>\n",
       "      <td>0.105021</td>\n",
       "      <td>1.000000</td>\n",
       "      <td>0.349333</td>\n",
       "      <td>0.339742</td>\n",
       "      <td>0.131591</td>\n",
       "      <td>-0.007104</td>\n",
       "      <td>0.006567</td>\n",
       "      <td>-0.008684</td>\n",
       "    </tr>\n",
       "    <tr>\n",
       "      <th>number_project</th>\n",
       "      <td>-0.142970</td>\n",
       "      <td>0.349333</td>\n",
       "      <td>1.000000</td>\n",
       "      <td>0.417211</td>\n",
       "      <td>0.196786</td>\n",
       "      <td>-0.004741</td>\n",
       "      <td>0.023787</td>\n",
       "      <td>-0.006064</td>\n",
       "    </tr>\n",
       "    <tr>\n",
       "      <th>average_montly_hours</th>\n",
       "      <td>-0.020048</td>\n",
       "      <td>0.339742</td>\n",
       "      <td>0.417211</td>\n",
       "      <td>1.000000</td>\n",
       "      <td>0.127755</td>\n",
       "      <td>-0.010143</td>\n",
       "      <td>0.071287</td>\n",
       "      <td>-0.003544</td>\n",
       "    </tr>\n",
       "    <tr>\n",
       "      <th>time_spend_company</th>\n",
       "      <td>-0.100866</td>\n",
       "      <td>0.131591</td>\n",
       "      <td>0.196786</td>\n",
       "      <td>0.127755</td>\n",
       "      <td>1.000000</td>\n",
       "      <td>0.002120</td>\n",
       "      <td>0.144822</td>\n",
       "      <td>0.067433</td>\n",
       "    </tr>\n",
       "    <tr>\n",
       "      <th>work_accident</th>\n",
       "      <td>0.058697</td>\n",
       "      <td>-0.007104</td>\n",
       "      <td>-0.004741</td>\n",
       "      <td>-0.010143</td>\n",
       "      <td>0.002120</td>\n",
       "      <td>1.000000</td>\n",
       "      <td>-0.154622</td>\n",
       "      <td>0.039245</td>\n",
       "    </tr>\n",
       "    <tr>\n",
       "      <th>left</th>\n",
       "      <td>-0.388375</td>\n",
       "      <td>0.006567</td>\n",
       "      <td>0.023787</td>\n",
       "      <td>0.071287</td>\n",
       "      <td>0.144822</td>\n",
       "      <td>-0.154622</td>\n",
       "      <td>1.000000</td>\n",
       "      <td>-0.061788</td>\n",
       "    </tr>\n",
       "    <tr>\n",
       "      <th>promotion_last_five_years</th>\n",
       "      <td>0.025605</td>\n",
       "      <td>-0.008684</td>\n",
       "      <td>-0.006064</td>\n",
       "      <td>-0.003544</td>\n",
       "      <td>0.067433</td>\n",
       "      <td>0.039245</td>\n",
       "      <td>-0.061788</td>\n",
       "      <td>1.000000</td>\n",
       "    </tr>\n",
       "  </tbody>\n",
       "</table>\n",
       "</div>"
      ],
      "text/plain": [
       "                           satisfaction_level  last_evaluation  \\\n",
       "satisfaction_level                   1.000000         0.105021   \n",
       "last_evaluation                      0.105021         1.000000   \n",
       "number_project                      -0.142970         0.349333   \n",
       "average_montly_hours                -0.020048         0.339742   \n",
       "time_spend_company                  -0.100866         0.131591   \n",
       "work_accident                        0.058697        -0.007104   \n",
       "left                                -0.388375         0.006567   \n",
       "promotion_last_five_years            0.025605        -0.008684   \n",
       "\n",
       "                           number_project  average_montly_hours  \\\n",
       "satisfaction_level              -0.142970             -0.020048   \n",
       "last_evaluation                  0.349333              0.339742   \n",
       "number_project                   1.000000              0.417211   \n",
       "average_montly_hours             0.417211              1.000000   \n",
       "time_spend_company               0.196786              0.127755   \n",
       "work_accident                   -0.004741             -0.010143   \n",
       "left                             0.023787              0.071287   \n",
       "promotion_last_five_years       -0.006064             -0.003544   \n",
       "\n",
       "                           time_spend_company  work_accident      left  \\\n",
       "satisfaction_level                  -0.100866       0.058697 -0.388375   \n",
       "last_evaluation                      0.131591      -0.007104  0.006567   \n",
       "number_project                       0.196786      -0.004741  0.023787   \n",
       "average_montly_hours                 0.127755      -0.010143  0.071287   \n",
       "time_spend_company                   1.000000       0.002120  0.144822   \n",
       "work_accident                        0.002120       1.000000 -0.154622   \n",
       "left                                 0.144822      -0.154622  1.000000   \n",
       "promotion_last_five_years            0.067433       0.039245 -0.061788   \n",
       "\n",
       "                           promotion_last_five_years  \n",
       "satisfaction_level                          0.025605  \n",
       "last_evaluation                            -0.008684  \n",
       "number_project                             -0.006064  \n",
       "average_montly_hours                       -0.003544  \n",
       "time_spend_company                          0.067433  \n",
       "work_accident                               0.039245  \n",
       "left                                       -0.061788  \n",
       "promotion_last_five_years                   1.000000  "
      ]
     },
     "execution_count": 5,
     "metadata": {},
     "output_type": "execute_result"
    },
    {
     "data": {
      "image/png": "[encoded data removed]",
      "text/plain": [
       "<Figure size 640x480 with 2 Axes>"
      ]
     },
     "metadata": {},
     "output_type": "display_data"
    }
   ],
   "source": [
    "corr_matrix = hr.corr()\n",
    "\n",
    "sns.heatmap(corr_matrix, annot=True, cmap='coolwarm')\n",
    "corr_matrix"
   ]
  },
  {
   "cell_type": "markdown",
   "id": "4fb78a6d",
   "metadata": {},
   "source": [
    "Две наиболее коррелированные переменные \"number_project\" и \"average_monthly_hours\" с коэффициентом корреляции 0,42.\n",
    "\n",
    "Это говорит о том, что сотрудники, которые работают над большим количеством проектов, как правило, имеют более высокую среднемесячную продолжительность рабочего времени."
   ]
  },
  {
   "cell_type": "markdown",
   "id": "f23de0a0",
   "metadata": {},
   "source": [
    "Две наименее коррелированные переменные \"left\" и \"satisfaction_level\" с коэффициентом корреляции -0.39.\n",
    "\n",
    "Это говорит о том, что по мере снижения уровня удовлетворенности сотрудника вероятность его ухода из компании возрастает."
   ]
  },
  {
   "cell_type": "markdown",
   "id": "03ef0e5b",
   "metadata": {},
   "source": [
    "### Задание 4\n",
    "Рассчитайте сколько сотрудников работает в каждом департаменте."
   ]
  },
  {
   "cell_type": "code",
   "execution_count": 80,
   "id": "403381b0",
   "metadata": {},
   "outputs": [
    {
     "data": {
      "text/html": [
       "<div>\n",
       "<style scoped>\n",
       "    .dataframe tbody tr th:only-of-type {\n",
       "        vertical-align: middle;\n",
       "    }\n",
       "\n",
       "    .dataframe tbody tr th {\n",
       "        vertical-align: top;\n",
       "    }\n",
       "\n",
       "    .dataframe thead th {\n",
       "        text-align: right;\n",
       "    }\n",
       "</style>\n",
       "<table border=\"1\" class=\"dataframe\">\n",
       "  <thead>\n",
       "    <tr style=\"text-align: right;\">\n",
       "      <th>left</th>\n",
       "      <th>0</th>\n",
       "      <th>1</th>\n",
       "    </tr>\n",
       "    <tr>\n",
       "      <th>department</th>\n",
       "      <th></th>\n",
       "      <th></th>\n",
       "    </tr>\n",
       "  </thead>\n",
       "  <tbody>\n",
       "    <tr>\n",
       "      <th>sales</th>\n",
       "      <td>3126</td>\n",
       "      <td>1014</td>\n",
       "    </tr>\n",
       "    <tr>\n",
       "      <th>technical</th>\n",
       "      <td>2023</td>\n",
       "      <td>697</td>\n",
       "    </tr>\n",
       "    <tr>\n",
       "      <th>support</th>\n",
       "      <td>1674</td>\n",
       "      <td>555</td>\n",
       "    </tr>\n",
       "    <tr>\n",
       "      <th>IT</th>\n",
       "      <td>954</td>\n",
       "      <td>273</td>\n",
       "    </tr>\n",
       "    <tr>\n",
       "      <th>product_mng</th>\n",
       "      <td>704</td>\n",
       "      <td>198</td>\n",
       "    </tr>\n",
       "    <tr>\n",
       "      <th>RandD</th>\n",
       "      <td>666</td>\n",
       "      <td>121</td>\n",
       "    </tr>\n",
       "    <tr>\n",
       "      <th>marketing</th>\n",
       "      <td>655</td>\n",
       "      <td>203</td>\n",
       "    </tr>\n",
       "    <tr>\n",
       "      <th>accounting</th>\n",
       "      <td>563</td>\n",
       "      <td>204</td>\n",
       "    </tr>\n",
       "    <tr>\n",
       "      <th>management</th>\n",
       "      <td>539</td>\n",
       "      <td>91</td>\n",
       "    </tr>\n",
       "    <tr>\n",
       "      <th>hr</th>\n",
       "      <td>524</td>\n",
       "      <td>215</td>\n",
       "    </tr>\n",
       "  </tbody>\n",
       "</table>\n",
       "</div>"
      ],
      "text/plain": [
       "left            0     1\n",
       "department             \n",
       "sales        3126  1014\n",
       "technical    2023   697\n",
       "support      1674   555\n",
       "IT            954   273\n",
       "product_mng   704   198\n",
       "RandD         666   121\n",
       "marketing     655   203\n",
       "accounting    563   204\n",
       "management    539    91\n",
       "hr            524   215"
      ]
     },
     "metadata": {},
     "output_type": "display_data"
    }
   ],
   "source": [
    "table_department = pd.crosstab(hr.department, hr.left)\n",
    "table_department_sorted = table_department.sort_values(by= 0, ascending=False)\n",
    "display(table_department_sorted)"
   ]
  },
  {
   "cell_type": "code",
   "execution_count": 65,
   "id": "1419be22",
   "metadata": {},
   "outputs": [
    {
     "data": {
      "image/png": "[encoded data removed]",
      "text/plain": [
       "<Figure size 640x480 with 1 Axes>"
      ]
     },
     "metadata": {},
     "output_type": "display_data"
    }
   ],
   "source": [
    "table_department_sorted.plot(kind='bar', stacked=True)\n",
    "plt.title('Количество работающих и уволившихся работников по департаментам')\n",
    "plt.xlabel('Департамент')\n",
    "plt.ylabel('Количество работающих и уволившихся работников')\n",
    "plt.show()"
   ]
  },
  {
   "cell_type": "markdown",
   "id": "f6280483",
   "metadata": {},
   "source": [
    "### Задание 5\n",
    "Показать распределение сотрудников по зарплатам."
   ]
  },
  {
   "cell_type": "code",
   "execution_count": 77,
   "id": "e5ae511b",
   "metadata": {},
   "outputs": [
    {
     "data": {
      "text/plain": [
       "low       7316\n",
       "medium    6446\n",
       "high      1237\n",
       "Name: salary, dtype: int64"
      ]
     },
     "execution_count": 77,
     "metadata": {},
     "output_type": "execute_result"
    }
   ],
   "source": [
    "salary_counts = hr['salary'].value_counts()\n",
    "salary_counts"
   ]
  },
  {
   "cell_type": "code",
   "execution_count": 78,
   "id": "d97ebf39",
   "metadata": {},
   "outputs": [
    {
     "data": {
      "image/png": "[encoded data removed]",
      "text/plain": [
       "<Figure size 640x480 with 1 Axes>"
      ]
     },
     "metadata": {},
     "output_type": "display_data"
    }
   ],
   "source": [
    "plt.bar(salary_counts.index, salary_counts.values)\n",
    "\n",
    "plt.xlabel('Уровень зарплаты')\n",
    "plt.ylabel('Количество работников')\n",
    "plt.title('Распределение заработной платы')\n",
    "plt.show()"
   ]
  },
  {
   "cell_type": "markdown",
   "id": "7b223a92",
   "metadata": {},
   "source": [
    "### Задание 6\n",
    "Показать распределение сотрудников по зарплатам в каждом департаменте по отдельности"
   ]
  },
  {
   "cell_type": "code",
   "execution_count": 69,
   "id": "a79c33b2",
   "metadata": {},
   "outputs": [
    {
     "data": {
      "text/html": [
       "<div>\n",
       "<style scoped>\n",
       "    .dataframe tbody tr th:only-of-type {\n",
       "        vertical-align: middle;\n",
       "    }\n",
       "\n",
       "    .dataframe tbody tr th {\n",
       "        vertical-align: top;\n",
       "    }\n",
       "\n",
       "    .dataframe thead th {\n",
       "        text-align: right;\n",
       "    }\n",
       "</style>\n",
       "<table border=\"1\" class=\"dataframe\">\n",
       "  <thead>\n",
       "    <tr style=\"text-align: right;\">\n",
       "      <th>salary</th>\n",
       "      <th>high</th>\n",
       "      <th>low</th>\n",
       "      <th>medium</th>\n",
       "    </tr>\n",
       "    <tr>\n",
       "      <th>department</th>\n",
       "      <th></th>\n",
       "      <th></th>\n",
       "      <th></th>\n",
       "    </tr>\n",
       "  </thead>\n",
       "  <tbody>\n",
       "    <tr>\n",
       "      <th>IT</th>\n",
       "      <td>83</td>\n",
       "      <td>609</td>\n",
       "      <td>535</td>\n",
       "    </tr>\n",
       "    <tr>\n",
       "      <th>RandD</th>\n",
       "      <td>51</td>\n",
       "      <td>364</td>\n",
       "      <td>372</td>\n",
       "    </tr>\n",
       "    <tr>\n",
       "      <th>accounting</th>\n",
       "      <td>74</td>\n",
       "      <td>358</td>\n",
       "      <td>335</td>\n",
       "    </tr>\n",
       "    <tr>\n",
       "      <th>hr</th>\n",
       "      <td>45</td>\n",
       "      <td>335</td>\n",
       "      <td>359</td>\n",
       "    </tr>\n",
       "    <tr>\n",
       "      <th>management</th>\n",
       "      <td>225</td>\n",
       "      <td>180</td>\n",
       "      <td>225</td>\n",
       "    </tr>\n",
       "    <tr>\n",
       "      <th>marketing</th>\n",
       "      <td>80</td>\n",
       "      <td>402</td>\n",
       "      <td>376</td>\n",
       "    </tr>\n",
       "    <tr>\n",
       "      <th>product_mng</th>\n",
       "      <td>68</td>\n",
       "      <td>451</td>\n",
       "      <td>383</td>\n",
       "    </tr>\n",
       "    <tr>\n",
       "      <th>sales</th>\n",
       "      <td>269</td>\n",
       "      <td>2099</td>\n",
       "      <td>1772</td>\n",
       "    </tr>\n",
       "    <tr>\n",
       "      <th>support</th>\n",
       "      <td>141</td>\n",
       "      <td>1146</td>\n",
       "      <td>942</td>\n",
       "    </tr>\n",
       "    <tr>\n",
       "      <th>technical</th>\n",
       "      <td>201</td>\n",
       "      <td>1372</td>\n",
       "      <td>1147</td>\n",
       "    </tr>\n",
       "  </tbody>\n",
       "</table>\n",
       "</div>"
      ],
      "text/plain": [
       "salary       high   low  medium\n",
       "department                     \n",
       "IT             83   609     535\n",
       "RandD          51   364     372\n",
       "accounting     74   358     335\n",
       "hr             45   335     359\n",
       "management    225   180     225\n",
       "marketing      80   402     376\n",
       "product_mng    68   451     383\n",
       "sales         269  2099    1772\n",
       "support       141  1146     942\n",
       "technical     201  1372    1147"
      ]
     },
     "execution_count": 69,
     "metadata": {},
     "output_type": "execute_result"
    }
   ],
   "source": [
    "table_department_salary = pd.crosstab(hr.department, hr.salary)\n",
    "table_department_salary"
   ]
  },
  {
   "cell_type": "code",
   "execution_count": 76,
   "id": "258238ed",
   "metadata": {},
   "outputs": [
    {
     "data": {
      "image/png": "[encoded data removed]",
      "text/plain": [
       "<Figure size 1000x600 with 1 Axes>"
      ]
     },
     "metadata": {},
     "output_type": "display_data"
    }
   ],
   "source": [
    "table_department_salary.plot(kind='bar', stacked=True, figsize=(10,6))\n",
    "plt.title('Распределение заработной платы по департаментам')\n",
    "plt.xlabel('Департамент')\n",
    "plt.ylabel('Количество сотрудников')\n",
    "plt.show()"
   ]
  },
  {
   "cell_type": "markdown",
   "id": "2662670b",
   "metadata": {},
   "source": [
    "### Задание 7\n",
    "Проверить гипотезу, что сотрудники с высоким окладом проводят на работе больше времени, чем сотрудники с низкимокладом"
   ]
  },
  {
   "cell_type": "code",
   "execution_count": 79,
   "id": "6d23b0b6",
   "metadata": {},
   "outputs": [
    {
     "name": "stdout",
     "output_type": "stream",
     "text": [
      "t-statistic: -0.73\n",
      "p-value: 0.47\n"
     ]
    }
   ],
   "source": [
    "high_salary = hr[hr['salary'] == 'high']['average_montly_hours']\n",
    "low_salary = hr[hr['salary'] == 'low']['average_montly_hours']\n",
    "\n",
    "t_stat, p_val = st.ttest_ind(high_salary, low_salary)\n",
    "\n",
    "print(f\"t-statistic: {t_stat:.2f}\"\n",
    "print(f\"p-value: {p_val:.2f}\")"
   ]
  },
  {
   "cell_type": "markdown",
   "id": "11a22527",
   "metadata": {},
   "source": [
    "Поскольку p-значение больше 0,05, мы не можем отвергнуть нулевую гипотезу, которая предполагает, что нет существенной разницы в среднемесячных часах, проведенных на работе между сотрудниками с высокой и низкой заработной платой."
   ]
  },
  {
   "cell_type": "markdown",
   "id": "fbfaa345",
   "metadata": {},
   "source": [
    "### Задание 8\n",
    "Рассчитать следующие показатели среди уволившихся и неуволившихся сотрудников (по отдельности):"
   ]
  },
  {
   "cell_type": "markdown",
   "id": "53d6bb35",
   "metadata": {},
   "source": [
    "#### Доля сотрудников с повышением за последние 5 лет:"
   ]
  },
  {
   "cell_type": "code",
   "execution_count": 10,
   "id": "6bccf3d3",
   "metadata": {},
   "outputs": [],
   "source": [
    "retired = hr[hr['left'] == 1]\n",
    "employees = hr[hr['left'] == 0]"
   ]
  },
  {
   "cell_type": "code",
   "execution_count": 11,
   "id": "bfb654a1",
   "metadata": {},
   "outputs": [
    {
     "name": "stdout",
     "output_type": "stream",
     "text": [
      "Процент уволившихся сотрудников получшивших повышение за последние 5 лет: 0.53%\n",
      "\n",
      "Количество уволившихся сотрудников не получивших повышение: 3552\n",
      "Количество уволившихся сотрудников получивших повышение: 19\n"
     ]
    }
   ],
   "source": [
    "ratio_retired = ((len(retired[retired['promotion_last_five_years'] == 1]) / len(retired[retired['promotion_last_five_years'] == 0]))* 100)\n",
    "print(f\"Процент уволившихся сотрудников получшивших повышение за последние 5 лет: {ratio_retired:.2f}%\\n\")\n",
    "retired_list = [retired['promotion_last_five_years'].value_counts()][0]\n",
    "print(f'Количество уволившихся сотрудников не получивших повышение: {retired_list[0]}')\n",
    "print(f'Количество уволившихся сотрудников получивших повышение: {retired_list[1]}')"
   ]
  },
  {
   "cell_type": "code",
   "execution_count": 12,
   "id": "3f036714",
   "metadata": {},
   "outputs": [
    {
     "name": "stdout",
     "output_type": "stream",
     "text": [
      "Процент работающих сотрудников получшивших повышение за последние 5 лет: 2.70%\n",
      "\n",
      "Количество работающих сотрудников не получивших повышение: 11128\n",
      "Количество работающих сотрудников получивших повышение: 300\n"
     ]
    }
   ],
   "source": [
    "ratio_employees = ((len(employees[employees['promotion_last_five_years'] == 1]) / len(employees[employees['promotion_last_five_years'] == 0]))* 100)\n",
    "print(f\"Процент работающих сотрудников получшивших повышение за последние 5 лет: {ratio_employees:.2f}%\\n\")\n",
    "employees_list = [employees['promotion_last_five_years'].value_counts()][0]\n",
    "print(f'Количество работающих сотрудников не получивших повышение: {employees_list[0]}')\n",
    "print(f'Количество работающих сотрудников получивших повышение: {employees_list[1]}')"
   ]
  },
  {
   "cell_type": "code",
   "execution_count": 13,
   "id": "4836c418",
   "metadata": {},
   "outputs": [
    {
     "name": "stdout",
     "output_type": "stream",
     "text": [
      "Количество уволившихся сотрудников получивших повышение по департаментам:\n"
     ]
    },
    {
     "data": {
      "text/html": [
       "<div>\n",
       "<style scoped>\n",
       "    .dataframe tbody tr th:only-of-type {\n",
       "        vertical-align: middle;\n",
       "    }\n",
       "\n",
       "    .dataframe tbody tr th {\n",
       "        vertical-align: top;\n",
       "    }\n",
       "\n",
       "    .dataframe thead th {\n",
       "        text-align: right;\n",
       "    }\n",
       "</style>\n",
       "<table border=\"1\" class=\"dataframe\">\n",
       "  <thead>\n",
       "    <tr style=\"text-align: right;\">\n",
       "      <th>promotion_last_five_years</th>\n",
       "      <th>0</th>\n",
       "      <th>1</th>\n",
       "    </tr>\n",
       "    <tr>\n",
       "      <th>department</th>\n",
       "      <th></th>\n",
       "      <th></th>\n",
       "    </tr>\n",
       "  </thead>\n",
       "  <tbody>\n",
       "    <tr>\n",
       "      <th>sales</th>\n",
       "      <td>1007</td>\n",
       "      <td>7</td>\n",
       "    </tr>\n",
       "    <tr>\n",
       "      <th>IT</th>\n",
       "      <td>270</td>\n",
       "      <td>3</td>\n",
       "    </tr>\n",
       "    <tr>\n",
       "      <th>management</th>\n",
       "      <td>88</td>\n",
       "      <td>3</td>\n",
       "    </tr>\n",
       "    <tr>\n",
       "      <th>support</th>\n",
       "      <td>552</td>\n",
       "      <td>3</td>\n",
       "    </tr>\n",
       "    <tr>\n",
       "      <th>technical</th>\n",
       "      <td>694</td>\n",
       "      <td>3</td>\n",
       "    </tr>\n",
       "    <tr>\n",
       "      <th>RandD</th>\n",
       "      <td>121</td>\n",
       "      <td>0</td>\n",
       "    </tr>\n",
       "    <tr>\n",
       "      <th>accounting</th>\n",
       "      <td>204</td>\n",
       "      <td>0</td>\n",
       "    </tr>\n",
       "    <tr>\n",
       "      <th>hr</th>\n",
       "      <td>215</td>\n",
       "      <td>0</td>\n",
       "    </tr>\n",
       "    <tr>\n",
       "      <th>marketing</th>\n",
       "      <td>203</td>\n",
       "      <td>0</td>\n",
       "    </tr>\n",
       "    <tr>\n",
       "      <th>product_mng</th>\n",
       "      <td>198</td>\n",
       "      <td>0</td>\n",
       "    </tr>\n",
       "  </tbody>\n",
       "</table>\n",
       "</div>"
      ],
      "text/plain": [
       "promotion_last_five_years     0  1\n",
       "department                        \n",
       "sales                      1007  7\n",
       "IT                          270  3\n",
       "management                   88  3\n",
       "support                     552  3\n",
       "technical                   694  3\n",
       "RandD                       121  0\n",
       "accounting                  204  0\n",
       "hr                          215  0\n",
       "marketing                   203  0\n",
       "product_mng                 198  0"
      ]
     },
     "metadata": {},
     "output_type": "display_data"
    }
   ],
   "source": [
    "table_retired = pd.crosstab(retired.department, retired.promotion_last_five_years)\n",
    "table_retired_sorted = table_retired.sort_values(by= 1, ascending=False)\n",
    "print('Количество уволившихся сотрудников получивших повышение по департаментам:')\n",
    "display(table_retired_sorted)"
   ]
  },
  {
   "cell_type": "code",
   "execution_count": 14,
   "id": "9dc98c10",
   "metadata": {},
   "outputs": [
    {
     "name": "stdout",
     "output_type": "stream",
     "text": [
      "Количество работающих сотрудников получивших повышение по департаментам:\n"
     ]
    },
    {
     "data": {
      "text/html": [
       "<div>\n",
       "<style scoped>\n",
       "    .dataframe tbody tr th:only-of-type {\n",
       "        vertical-align: middle;\n",
       "    }\n",
       "\n",
       "    .dataframe tbody tr th {\n",
       "        vertical-align: top;\n",
       "    }\n",
       "\n",
       "    .dataframe thead th {\n",
       "        text-align: right;\n",
       "    }\n",
       "</style>\n",
       "<table border=\"1\" class=\"dataframe\">\n",
       "  <thead>\n",
       "    <tr style=\"text-align: right;\">\n",
       "      <th>promotion_last_five_years</th>\n",
       "      <th>0</th>\n",
       "      <th>1</th>\n",
       "    </tr>\n",
       "    <tr>\n",
       "      <th>department</th>\n",
       "      <th></th>\n",
       "      <th></th>\n",
       "    </tr>\n",
       "  </thead>\n",
       "  <tbody>\n",
       "    <tr>\n",
       "      <th>sales</th>\n",
       "      <td>3033</td>\n",
       "      <td>93</td>\n",
       "    </tr>\n",
       "    <tr>\n",
       "      <th>management</th>\n",
       "      <td>473</td>\n",
       "      <td>66</td>\n",
       "    </tr>\n",
       "    <tr>\n",
       "      <th>marketing</th>\n",
       "      <td>612</td>\n",
       "      <td>43</td>\n",
       "    </tr>\n",
       "    <tr>\n",
       "      <th>RandD</th>\n",
       "      <td>639</td>\n",
       "      <td>27</td>\n",
       "    </tr>\n",
       "    <tr>\n",
       "      <th>technical</th>\n",
       "      <td>1998</td>\n",
       "      <td>25</td>\n",
       "    </tr>\n",
       "    <tr>\n",
       "      <th>support</th>\n",
       "      <td>1657</td>\n",
       "      <td>17</td>\n",
       "    </tr>\n",
       "    <tr>\n",
       "      <th>hr</th>\n",
       "      <td>509</td>\n",
       "      <td>15</td>\n",
       "    </tr>\n",
       "    <tr>\n",
       "      <th>accounting</th>\n",
       "      <td>549</td>\n",
       "      <td>14</td>\n",
       "    </tr>\n",
       "    <tr>\n",
       "      <th>IT</th>\n",
       "      <td>954</td>\n",
       "      <td>0</td>\n",
       "    </tr>\n",
       "    <tr>\n",
       "      <th>product_mng</th>\n",
       "      <td>704</td>\n",
       "      <td>0</td>\n",
       "    </tr>\n",
       "  </tbody>\n",
       "</table>\n",
       "</div>"
      ],
      "text/plain": [
       "promotion_last_five_years     0   1\n",
       "department                         \n",
       "sales                      3033  93\n",
       "management                  473  66\n",
       "marketing                   612  43\n",
       "RandD                       639  27\n",
       "technical                  1998  25\n",
       "support                    1657  17\n",
       "hr                          509  15\n",
       "accounting                  549  14\n",
       "IT                          954   0\n",
       "product_mng                 704   0"
      ]
     },
     "metadata": {},
     "output_type": "display_data"
    }
   ],
   "source": [
    "table_employees = pd.crosstab(employees.department, employees.promotion_last_five_years)\n",
    "table_employees_sorted = table_employees.sort_values(by= 1, ascending=False)\n",
    "print('Количество работающих сотрудников получивших повышение по департаментам:')\n",
    "display(table_employees_sorted)"
   ]
  },
  {
   "cell_type": "markdown",
   "id": "9c172e91",
   "metadata": {},
   "source": [
    "#### Средняя степень удовлетворенности:"
   ]
  },
  {
   "cell_type": "code",
   "execution_count": 15,
   "id": "bc399eaa",
   "metadata": {},
   "outputs": [
    {
     "name": "stdout",
     "output_type": "stream",
     "text": [
      "Средний уровень удовлетворенности уволившихся сотрудников: 0.44\n",
      "Средний уровень удовлетворенности работающих сотрудников: 0.67\n"
     ]
    }
   ],
   "source": [
    "left_mean = retired['satisfaction_level'].mean()\n",
    "stayed_mean = employees['satisfaction_level'].mean()\n",
    "\n",
    "print(f\"Средний уровень удовлетворенности уволившихся сотрудников: {left_mean:.2f}\")\n",
    "print(f\"Средний уровень удовлетворенности работающих сотрудников: {stayed_mean:.2f}\")"
   ]
  },
  {
   "cell_type": "markdown",
   "id": "4d074f3e",
   "metadata": {},
   "source": [
    "#### Среднее количество проектов:"
   ]
  },
  {
   "cell_type": "code",
   "execution_count": 16,
   "id": "3ae7427e",
   "metadata": {},
   "outputs": [
    {
     "name": "stdout",
     "output_type": "stream",
     "text": [
      "Среднее количество проектов уволившихся сотрудников: 3.86\n",
      "Среднее количество проектов работающих сотрудников: 3.79\n"
     ]
    }
   ],
   "source": [
    "left_mean = retired['number_project'].mean()\n",
    "stayed_mean = employees['number_project'].mean()\n",
    "\n",
    "print(f\"Среднее количество проектов уволившихся сотрудников: {left_mean:.2f}\")\n",
    "print(f\"Среднее количество проектов работающих сотрудников: {stayed_mean:.2f}\")"
   ]
  },
  {
   "cell_type": "markdown",
   "id": "51e3beed",
   "metadata": {},
   "source": [
    "### Задание 9"
   ]
  },
  {
   "cell_type": "markdown",
   "id": "c537eb86",
   "metadata": {},
   "source": [
    "#### Разделить данные на тестовую и обучающую выборки."
   ]
  },
  {
   "cell_type": "code",
   "execution_count": 48,
   "id": "d03fa3b1",
   "metadata": {},
   "outputs": [],
   "source": [
    "hr_learn = hr[\n",
    "    [\n",
    "        'satisfaction_level',\n",
    "        'last_evaluation',\n",
    "        'number_project',\n",
    "        'average_montly_hours',\n",
    "        'time_spend_company',\n",
    "        'work_accident',\n",
    "        'left',\n",
    "        'promotion_last_five_years'\n",
    "    ]\n",
    "]\n",
    "left = pd.array(hr_learn['left'])"
   ]
  },
  {
   "cell_type": "code",
   "execution_count": 50,
   "id": "739bfb97",
   "metadata": {},
   "outputs": [],
   "source": [
    "X_train, X_test, y_train, y_test = train_test_split(hr_learn[\n",
    "    ['satisfaction_level',\n",
    "     'last_evaluation',\n",
    "     'number_project',\n",
    "     'average_montly_hours',\n",
    "     'time_spend_company',\n",
    "     'work_accident',\n",
    "     'left',\n",
    "     'promotion_last_five_years']\n",
    "], left, test_size=0.20)"
   ]
  },
  {
   "cell_type": "markdown",
   "id": "d4b29fec",
   "metadata": {},
   "source": [
    "#### Построить модель LDA, предсказывающую уволился лисотрудник на основе имеющихся факторов (кроме department и salary)."
   ]
  },
  {
   "cell_type": "code",
   "execution_count": 51,
   "id": "aeedcca6",
   "metadata": {},
   "outputs": [],
   "source": [
    "from sklearn.discriminant_analysis import LinearDiscriminantAnalysis\n",
    "lda = LinearDiscriminantAnalysis()"
   ]
  },
  {
   "cell_type": "code",
   "execution_count": 52,
   "id": "9b111919",
   "metadata": {},
   "outputs": [
    {
     "data": {
      "text/plain": [
       "LinearDiscriminantAnalysis()"
      ]
     },
     "execution_count": 52,
     "metadata": {},
     "output_type": "execute_result"
    }
   ],
   "source": [
    "lda.fit(X_train, y_train)"
   ]
  },
  {
   "cell_type": "code",
   "execution_count": 58,
   "id": "2de11389",
   "metadata": {},
   "outputs": [],
   "source": [
    "result = pd.DataFrame([y_test, lda.predict(X_test)]).T"
   ]
  },
  {
   "cell_type": "markdown",
   "id": "9f8907d0",
   "metadata": {},
   "source": [
    "#### Оценить качество модели на тестовой выборки."
   ]
  },
  {
   "cell_type": "code",
   "execution_count": 54,
   "id": "aa40d25c",
   "metadata": {},
   "outputs": [
    {
     "data": {
      "text/plain": [
       "0.7653333333333333"
      ]
     },
     "execution_count": 54,
     "metadata": {},
     "output_type": "execute_result"
    }
   ],
   "source": [
    "from sklearn.metrics import accuracy_score\n",
    "accuracy_score(y_test, lda.predict(X_test))"
   ]
  },
  {
   "cell_type": "markdown",
   "id": "7137c15f",
   "metadata": {},
   "source": [
    "### Из предоставленных данных можно сделать следующие выводы:\n",
    "\n",
    "Среднее значение уровня удовлетворенности работой сотрудников составляет 0.61, что может быть не достаточно высоким для успешной работы.\n",
    "\n",
    "Среднее значение количества проектов на одного сотрудника составляет 3.8, что может означать перегрузку работой и недостаточность ресурсов.\n",
    "\n",
    "Средняя продолжительность работы в компании - 3.5 года, что может быть достаточно низким показателем для устойчивого развития компании.\n",
    "\n",
    "Две наиболее коррелированные переменные \"number_project\" и \"average_monthly_hours\" имеют коэффициент корреляции 0.42, что может указывать на то, что чем больше проектов, тем больше часов работает сотрудник.\n",
    "\n",
    "Две наименее коррелированные переменные \"left\" и \"satisfaction_level\" имеют коэффициент корреляции -0.39, что может указывать на то, что низкий уровень удовлетворенности работой может быть фактором, способствующим уходу из компании.\n",
    "\n",
    "Построенная модель LDA показала точность предсказания ухода сотрудников на уровне 76.5%.\n",
    "\n",
    "\n",
    "Таким образом, необходимо уделить внимание уровню удовлетворенности работой сотрудников, оптимизации нагрузки по проектам и увеличению средней продолжительности работы в компании для повышения эффективности работы и снижения текучести кадров."
   ]
  }
 ],
 "metadata": {
  "kernelspec": {
   "display_name": "Python 3 (ipykernel)",
   "language": "python",
   "name": "python3"
  },
  "language_info": {
   "codemirror_mode": {
    "name": "ipython",
    "version": 3
   },
   "file_extension": ".py",
   "mimetype": "text/x-python",
   "name": "python",
   "nbconvert_exporter": "python",
   "pygments_lexer": "ipython3",
   "version": "3.9.13"
  }
 },
 "nbformat": 4,
 "nbformat_minor": 5
}
